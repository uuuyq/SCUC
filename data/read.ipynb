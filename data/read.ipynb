{
 "cells": [
  {
   "cell_type": "code",
   "id": "initial_id",
   "metadata": {
    "collapsed": true
   },
   "source": [
    "s = \"0\t0\t0\t0\t0\t0\t0\t0\t0\t0\t0\t0\t0\t0\t0\t0\t0\t0\t0\t43.47816085\t12.83129485\t26.74314834\t29.29767969\t37.02200089\t12.02287596\t17.64801545\t59.42671523\t28.50853084\t25.47133737\t6.032535888\t55.02599814\t18.47997173\t4.821338795\t42.46299189\t37.6292559\t11.24006749\t6.750510311\t3.829578441\t1.458914192\t7.422215205\t61.74167673\t10.28188984\t17.41962914\t32.35952585\t48.53925977\t17.03426933\t39.49055439\t25.07223454\t18.99705845\t19.80772448\t52.54865064\t29.94694362\t73.02971335\t12.17405644\t10.36665822\t39.2552594\t18.4139539\t27.01403892\t11.9919426\t54.40265921\t8.138197263\t9.399194051\t8.890171852\t12.45749587\t94.43595785\t48.6441897\t53.91888755\t6.032771863\t6.400685015\t223.2723927\t58.78789626\t59.02886458\t27.84649329\t17.30232569\t54.97457634\t6.33120751\t0.857914452\t48.16970241\t36.8154613\t56.90589156\t40.8975203\t42.58255704\t22.52406897\t99.57551529\t37.73657482\t10.95323198\t4.708268223\t14.372818\t10.18281854\t39.6836362\t104.8275432\t3.367852019\t53.45756929\t6.117897167\t16.83435304\t27.8362801\t25.0796565\t7.522999237\t23.81570214\t23.68406033\t25.53202538\t10.80912105\t0\t15.89130064\t28.75150378\t20.22501144\t26.50812596\t35.93354033\t0\t2.157821195\t31.34500497\t47.41778966\t0.929098896\t2.768692599\t15.48423329\t154.2337261\t12.59023952\t20.71621599\t0\t0\t0\t0\t0\t0\t0\t0\t0\t0\t0\t0\t0\t0\t0\t0\t0\t0\t0\t0\t0\t0\t0\t0\t0\t0\t0\t0\t0\t0\t0\t0\t0\t0\t0\t0\t0\t0\t0\t0\t0\t0\t0\t0\t0\t0\t0\t0\t0\t0\t0\t0\t0\t0\t0\t0\t0\t0\t0\t0\t0\t0\t0\t0\t0\t0\t0\t0\t0\t0\t0\t0\t0\t0\t0\t0\t0\t0\t0\t0\t0\t0\t0\t0\t0\t0\t0\t0\t0\t0\t0\t0\t0\t0\t0\t0\t0\t0\t0\t0\t0\t0\t0\t0\t0\t0\t0\t0\t0\t0\t0\t0\t0\t0\t0\t0\t0\t0\"\n",
    "import numpy as np\n",
    "\n",
    "l = list(s.split(sep=\"\\t\"))"
   ],
   "outputs": [],
   "execution_count": null
  },
  {
   "metadata": {},
   "cell_type": "code",
   "source": "len(l)",
   "id": "ed3cded1009b0357",
   "outputs": [],
   "execution_count": null
  },
  {
   "metadata": {},
   "cell_type": "code",
   "source": "l[:118].count(\"0\")",
   "id": "db3bf98b6136f553",
   "outputs": [],
   "execution_count": null
  },
  {
   "metadata": {},
   "cell_type": "code",
   "source": [
    "c = 0\n",
    "for i in range(118):\n",
    "    if l[i] == \"0\":\n",
    "        print(i)\n",
    "        c+=1\n",
    "print(\"c\", c)"
   ],
   "id": "6bfdef7e7aa2d46e",
   "outputs": [],
   "execution_count": null
  },
  {
   "metadata": {},
   "cell_type": "code",
   "source": "len(l[118:])",
   "id": "7a0d4b16f7c663b",
   "outputs": [],
   "execution_count": null
  },
  {
   "metadata": {},
   "cell_type": "code",
   "source": "l[118:].count(\"0\")",
   "id": "ad6ccd479dfe6311",
   "outputs": [],
   "execution_count": null
  },
  {
   "metadata": {},
   "cell_type": "code",
   "source": [
    "import pandas as pd\n",
    "df = pd.read_csv(r\"D:\\tools\\workspace_pycharm\\sddip-SCUC-6-24\\data\\01_test_cases\\case118\\t12_n06\\scenario_data.txt\", sep=\"\\t\")\n"
   ],
   "id": "6137cd0ae0b0e5d9",
   "outputs": [],
   "execution_count": null
  },
  {
   "metadata": {},
   "cell_type": "code",
   "source": "df.columns",
   "id": "b87546c7b996a417",
   "outputs": [],
   "execution_count": null
  },
  {
   "metadata": {},
   "cell_type": "code",
   "source": [
    "Re_0_count = 0\n",
    "Re_count = 0\n",
    "Pd_0_count = 0\n",
    "Pd_count = 0\n",
    "for column in df.columns:\n",
    "    if \"Re\" in column:\n",
    "        Re_count += 1\n",
    "    if \"Re\" in column and df.loc[0, column] == 0:\n",
    "        Re_0_count += 1\n",
    "    if \"Pd\" in column:\n",
    "        Pd_count += 1\n",
    "    if \"Pd\" in column and df.loc[0, column] == 0:\n",
    "        Pd_0_count += 1\n",
    "print(Re_count)\n",
    "print(Re_0_count)\n",
    "print(Pd_count)\n",
    "print(Pd_0_count)\n"
   ],
   "id": "569c76e00628cd42",
   "outputs": [],
   "execution_count": null
  },
  {
   "metadata": {},
   "cell_type": "code",
   "source": "",
   "id": "568a4fdaef99818d",
   "outputs": [],
   "execution_count": null
  }
 ],
 "metadata": {
  "kernelspec": {
   "display_name": "Python 3",
   "language": "python",
   "name": "python3"
  },
  "language_info": {
   "codemirror_mode": {
    "name": "ipython",
    "version": 2
   },
   "file_extension": ".py",
   "mimetype": "text/x-python",
   "name": "python",
   "nbconvert_exporter": "python",
   "pygments_lexer": "ipython2",
   "version": "2.7.6"
  }
 },
 "nbformat": 4,
 "nbformat_minor": 5
}
